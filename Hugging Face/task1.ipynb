{
 "cells": [
  {
   "cell_type": "code",
   "execution_count": null,
   "metadata": {},
   "outputs": [],
   "source": [
    "# !pip install EmissionTracker\n",
    "\n",
    "# from codecarbon import EmissionTracker\n",
    "\n",
    "# tracker=EmissionTracker()\n",
    "# tracker,start()\n",
    "# tracker.stop()"
   ]
  }
 ],
 "metadata": {
  "language_info": {
   "name": "python"
  }
 },
 "nbformat": 4,
 "nbformat_minor": 2
}

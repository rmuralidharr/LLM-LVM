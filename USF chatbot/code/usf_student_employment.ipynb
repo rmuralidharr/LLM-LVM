{
 "cells": [
  {
   "cell_type": "markdown",
   "id": "47b69f72-aa4d-4d57-a889-8f9175022eb8",
   "metadata": {},
   "source": [
    "# USF Student Employment"
   ]
  },
  {
   "cell_type": "code",
   "execution_count": 1,
   "id": "e339bb60-444c-40f7-b9c9-803de8e1e19f",
   "metadata": {},
   "outputs": [],
   "source": [
    "import pandas as pd\n",
    "import time\n",
    "\n",
    "from selenium import webdriver\n",
    "from selenium.webdriver.firefox.service import Service\n",
    "from selenium.webdriver.common.by import By\n",
    "\n",
    "from webdriver_manager.firefox import GeckoDriverManager \n",
    "\n",
    "from bs4 import BeautifulSoup as bs\n",
    "\n",
    "import re\n",
    "import dateparser"
   ]
  },
  {
   "cell_type": "code",
   "execution_count": 2,
   "id": "d1daa06e-4896-41ea-980a-4ebc0e01e280",
   "metadata": {},
   "outputs": [],
   "source": [
    "# if you hve selenium 4 installed, use one of these:\n",
    "driver = webdriver.Firefox(service=Service(GeckoDriverManager().install())) # this will work on Windows and Mac, and should work on Linux when run the first time\n",
    "#driver = webdriver.Firefox() # use if geckodriver is in your PATH environmnet variable (which includes the same folder as your notebook)"
   ]
  },
  {
   "cell_type": "code",
   "execution_count": 3,
   "id": "2e2a1057-cce6-4040-ae8a-dff85482f8b8",
   "metadata": {},
   "outputs": [],
   "source": [
    "url_list=[\n",
    "            #usf_student_employment\n",
    "            'https://www.usf.edu/work-at-usf/careers/browse-apply-for-job-openings.aspx'            \n",
    "          \n",
    "          ]\n",
    "content=\"\""
   ]
  },
  {
   "cell_type": "code",
   "execution_count": 4,
   "id": "950d65a2-0c55-46ff-8df7-172079da8fb9",
   "metadata": {},
   "outputs": [],
   "source": [
    "# if you hve selenium 4 installed, use one of these:\n",
    "driver = webdriver.Firefox(service=Service(GeckoDriverManager().install())) # this will work on Windows and Mac, and should work on Linux when run the first time\n",
    "#driver = webdriver.Firefox() # use if geckodriver is in your PATH environmnet variable (which includes the same folder as your notebook)\n",
    "for url in url_list:\n",
    "    driver.get(url)\n",
    "    driver.implicitly_wait(10) # implicitly_wait method sets a sticky timeout to implicitly wait for an element to be found, or a command to complete. This method only \n",
    "    # needs to be called one time per session. \n",
    "\n",
    "    pause_scroll = 3 # we need to pause after each time we scroll down\n",
    "    previous_page_height = driver.execute_script(\"return document.body.scrollHeight\")\n",
    "    while True:\n",
    "        driver.execute_script(\"window.scrollTo(0, document.body.scrollHeight);\")\n",
    "        time.sleep(pause_scroll)\n",
    "        new_page_height = driver.execute_script(\"return document.body.scrollHeight\")\n",
    "        #driver.find_elements_\n",
    "        if new_page_height == previous_page_height:\n",
    "            break\n",
    "        previous_page_height = new_page_height\n",
    "        \n",
    "    \n",
    "    page_source = driver.page_source\n",
    "    content = bs(page_source,'lxml')\n",
    "    content=content.get_text()\n",
    "   # usfbais_overview=usfbais_overview+content\n",
    "    \n",
    "\n",
    "driver.close()"
   ]
  },
  {
   "cell_type": "code",
   "execution_count": 5,
   "id": "7877f4cb-f6ab-49cb-b143-d84075a469ae",
   "metadata": {},
   "outputs": [],
   "source": [
    "# remove unwanted space\n",
    "content=\"\\n\".join([line for line in content.split(\"\\n\") if line.strip()])\n",
    "# remove unwanted tabs\n",
    "content=content.replace('\\t', '')\n",
    "# remove line less than 3 words\n",
    "#content =[line for line in content if len(line.split()) >= 3]"
   ]
  },
  {
   "cell_type": "code",
   "execution_count": 6,
   "id": "a2b5d790-8302-4b9c-98b1-69fdfa6dc037",
   "metadata": {},
   "outputs": [],
   "source": [
    "# 1. Open a new file in write mode\n",
    "file_path = \"usf_student_employment.txt\"  # Replace with the desired file path\n",
    "with open(file_path, \"w+\") as file:\n",
    "    \n",
    "    # 2. Write your string with newlines to the file\n",
    "    my_string = content #str(spefic)\n",
    "    file.write(my_string)\n"
   ]
  }
 ],
 "metadata": {
  "kernelspec": {
   "display_name": "Python 3 (ipykernel)",
   "language": "python",
   "name": "python3"
  },
  "language_info": {
   "codemirror_mode": {
    "name": "ipython",
    "version": 3
   },
   "file_extension": ".py",
   "mimetype": "text/x-python",
   "name": "python",
   "nbconvert_exporter": "python",
   "pygments_lexer": "ipython3",
   "version": "3.9.16"
  }
 },
 "nbformat": 4,
 "nbformat_minor": 5
}

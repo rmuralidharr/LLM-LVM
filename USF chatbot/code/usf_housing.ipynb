{
 "cells": [
  {
   "cell_type": "markdown",
   "id": "4a8a6298-8184-4fe1-86e6-32cee6d07ab5",
   "metadata": {},
   "source": [
    "# USF ON and OFF campus HOUSING"
   ]
  },
  {
   "cell_type": "code",
   "execution_count": 1,
   "id": "2af0b315-7f8c-491f-8094-47826555ddea",
   "metadata": {},
   "outputs": [],
   "source": [
    "import pandas as pd\n",
    "import time\n",
    "\n",
    "from selenium import webdriver\n",
    "from selenium.webdriver.firefox.service import Service\n",
    "from selenium.webdriver.common.by import By\n",
    "\n",
    "from webdriver_manager.firefox import GeckoDriverManager \n",
    "\n",
    "from bs4 import BeautifulSoup as bs\n",
    "\n",
    "import re\n",
    "import dateparser"
   ]
  },
  {
   "cell_type": "code",
   "execution_count": 2,
   "id": "36c5fb65-356c-4f55-97d7-917cbfa48578",
   "metadata": {},
   "outputs": [],
   "source": [
    "# if you hve selenium 4 installed, use one of these:\n",
    "driver = webdriver.Firefox(service=Service(GeckoDriverManager().install())) # this will work on Windows and Mac, and should work on Linux when run the first time\n",
    "#driver = webdriver.Firefox() # use if geckodriver is in your PATH environmnet variable (which includes the same folder as your notebook)"
   ]
  },
  {
   "cell_type": "markdown",
   "id": "9aca81ef-3776-4d81-a200-9363fb619171",
   "metadata": {},
   "source": [
    "### Extract the USF housing website data"
   ]
  },
  {
   "cell_type": "code",
   "execution_count": 3,
   "id": "b3634ca4-ca25-40e9-ae2a-49032acba4d0",
   "metadata": {},
   "outputs": [],
   "source": [
    "url_list=[\n",
    "            #on-campus housing options\n",
    "            'https://www.usf.edu/housing/housing-options/graduate-housing.aspx',\n",
    "            #faq\n",
    "            'https://www.usf.edu/housing/resources/faq.aspx'   \n",
    "    \n",
    "          \n",
    "          ]\n",
    "content=\"\""
   ]
  },
  {
   "cell_type": "code",
   "execution_count": 4,
   "id": "341432c8-7d40-456d-a859-db4bb35b43bc",
   "metadata": {},
   "outputs": [],
   "source": [
    "# if you hve selenium 4 installed, use one of these:\n",
    "driver = webdriver.Firefox(service=Service(GeckoDriverManager().install())) # this will work on Windows and Mac, and should work on Linux when run the first time\n",
    "#driver = webdriver.Firefox() # use if geckodriver is in your PATH environmnet variable (which includes the same folder as your notebook)\n",
    "for url in url_list:\n",
    "    driver.get(url)\n",
    "    driver.implicitly_wait(10) # implicitly_wait method sets a sticky timeout to implicitly wait for an element to be found, or a command to complete. This method only \n",
    "    # needs to be called one time per session. \n",
    "\n",
    "    pause_scroll = 3 # we need to pause after each time we scroll down\n",
    "    previous_page_height = driver.execute_script(\"return document.body.scrollHeight\")\n",
    "    while True:\n",
    "        driver.execute_script(\"window.scrollTo(0, document.body.scrollHeight);\")\n",
    "        time.sleep(pause_scroll)\n",
    "        new_page_height = driver.execute_script(\"return document.body.scrollHeight\")\n",
    "        #driver.find_elements_\n",
    "        if new_page_height == previous_page_height:\n",
    "            break\n",
    "        previous_page_height = new_page_height\n",
    "        \n",
    "    \n",
    "    page_source = driver.page_source\n",
    "    content = bs(page_source,'lxml')\n",
    "    content=content.get_text()\n",
    "   # usfbais_overview=usfbais_overview+content\n",
    "    \n",
    "\n",
    "driver.close()"
   ]
  },
  {
   "cell_type": "code",
   "execution_count": 5,
   "id": "5b539b72-e292-4eef-8690-9e17b7a5dbf6",
   "metadata": {},
   "outputs": [],
   "source": [
    "# remove unwanted space\n",
    "content=\"\\n\".join([line for line in content.split(\"\\n\") if line.strip()])\n",
    "# remove unwanted tabs\n",
    "content=content.replace('\\t', '')\n",
    "# remove line less than 3 words\n",
    "#content =[line for line in content if len(line.split()) >= 3]"
   ]
  },
  {
   "cell_type": "code",
   "execution_count": 6,
   "id": "07e2e91a-b1bc-40d8-9171-cdfc0a6c7e1e",
   "metadata": {},
   "outputs": [],
   "source": [
    "# 1. Open a new file in write mode\n",
    "file_path = \"usf_on_campus_housing.txt\"  # Replace with the desired file path\n",
    "with open(file_path, \"w+\") as file:\n",
    "    \n",
    "    # 2. Write your string with newlines to the file\n",
    "    my_string = content #str(spefic)\n",
    "    file.write(my_string)\n"
   ]
  },
  {
   "cell_type": "markdown",
   "id": "89de033f-b0bb-42fb-ad38-9eaed7ee3a41",
   "metadata": {},
   "source": [
    "## Off-campus housing"
   ]
  },
  {
   "cell_type": "code",
   "execution_count": 7,
   "id": "00016bd0-7b27-4e53-8872-f7225da6ceb5",
   "metadata": {},
   "outputs": [],
   "source": [
    "url_list=[\n",
    "            #off-campus housing options\n",
    "            'https://www.usf.edu/student-affairs/student-government/tampa-sg/tampa-services-involvement/off-campus-housing.aspx'\n",
    "                      \n",
    "          ]\n",
    "content=\"\""
   ]
  },
  {
   "cell_type": "code",
   "execution_count": 8,
   "id": "9592a0b5-e5c8-40ba-90cc-60256347b282",
   "metadata": {},
   "outputs": [],
   "source": [
    "# if you hve selenium 4 installed, use one of these:\n",
    "driver = webdriver.Firefox(service=Service(GeckoDriverManager().install())) # this will work on Windows and Mac, and should work on Linux when run the first time\n",
    "#driver = webdriver.Firefox() # use if geckodriver is in your PATH environmnet variable (which includes the same folder as your notebook)\n",
    "for url in url_list:\n",
    "    driver.get(url)\n",
    "    driver.implicitly_wait(10) # implicitly_wait method sets a sticky timeout to implicitly wait for an element to be found, or a command to complete. This method only \n",
    "    # needs to be called one time per session. \n",
    "\n",
    "    pause_scroll = 3 # we need to pause after each time we scroll down\n",
    "    previous_page_height = driver.execute_script(\"return document.body.scrollHeight\")\n",
    "    while True:\n",
    "        driver.execute_script(\"window.scrollTo(0, document.body.scrollHeight);\")\n",
    "        time.sleep(pause_scroll)\n",
    "        new_page_height = driver.execute_script(\"return document.body.scrollHeight\")\n",
    "        #driver.find_elements_\n",
    "        if new_page_height == previous_page_height:\n",
    "            break\n",
    "        previous_page_height = new_page_height\n",
    "        \n",
    "    \n",
    "    page_source = driver.page_source\n",
    "    content = bs(page_source,'lxml')\n",
    "    content=content.get_text()\n",
    "   # usfbais_overview=usfbais_overview+content\n",
    "    \n",
    "\n",
    "driver.close()"
   ]
  },
  {
   "cell_type": "code",
   "execution_count": 9,
   "id": "9486d35d-eadc-4b9d-aff1-2b46b63113b2",
   "metadata": {},
   "outputs": [],
   "source": [
    "# remove unwanted space\n",
    "content=\"\\n\".join([line for line in content.split(\"\\n\") if line.strip()])\n",
    "# remove unwanted tabs\n",
    "content=content.replace('\\t', '')\n",
    "# remove line less than 3 words\n",
    "#content =[line for line in content if len(line.split()) >= 3]"
   ]
  },
  {
   "cell_type": "code",
   "execution_count": 10,
   "id": "84ef8216-69a9-4f57-8e0d-bd6bbb12b9ea",
   "metadata": {},
   "outputs": [],
   "source": [
    "# 1. Open a new file in write mode\n",
    "file_path = \"usf_off_campus_housing.txt\"  # Replace with the desired file path\n",
    "with open(file_path, \"w+\") as file:\n",
    "    \n",
    "    # 2. Write your string with newlines to the file\n",
    "    my_string = content #str(spefic)\n",
    "    file.write(my_string)\n"
   ]
  }
 ],
 "metadata": {
  "kernelspec": {
   "display_name": "Python 3 (ipykernel)",
   "language": "python",
   "name": "python3"
  },
  "language_info": {
   "codemirror_mode": {
    "name": "ipython",
    "version": 3
   },
   "file_extension": ".py",
   "mimetype": "text/x-python",
   "name": "python",
   "nbconvert_exporter": "python",
   "pygments_lexer": "ipython3",
   "version": "3.9.16"
  }
 },
 "nbformat": 4,
 "nbformat_minor": 5
}

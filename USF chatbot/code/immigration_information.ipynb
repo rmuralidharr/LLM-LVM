{
 "cells": [
  {
   "cell_type": "markdown",
   "id": "1410193f-a07c-44df-8943-d6ae7be8718f",
   "metadata": {},
   "source": [
    "# IMMIGRATION INFORMATION"
   ]
  },
  {
   "cell_type": "code",
   "execution_count": 1,
   "id": "e82b22d9-fa9b-42a2-a61d-f182e3fd8a39",
   "metadata": {},
   "outputs": [],
   "source": [
    "import pandas as pd\n",
    "import time\n",
    "\n",
    "from selenium import webdriver\n",
    "from selenium.webdriver.firefox.service import Service\n",
    "from selenium.webdriver.common.by import By\n",
    "\n",
    "from webdriver_manager.firefox import GeckoDriverManager \n",
    "\n",
    "from bs4 import BeautifulSoup as bs\n",
    "\n",
    "import re\n",
    "import dateparser"
   ]
  },
  {
   "cell_type": "code",
   "execution_count": 2,
   "id": "bf9e97eb-5b6f-4940-bce0-1d8bbccb03c5",
   "metadata": {},
   "outputs": [],
   "source": [
    "# if you hve selenium 4 installed, use one of these:\n",
    "driver = webdriver.Firefox(service=Service(GeckoDriverManager().install())) # this will work on Windows and Mac, and should work on Linux when run the first time\n",
    "#driver = webdriver.Firefox() # use if geckodriver is in your PATH environmnet variable (which includes the same folder as your notebook)"
   ]
  },
  {
   "cell_type": "code",
   "execution_count": 3,
   "id": "cf6d6479-638a-4e60-bb68-86517d1908c8",
   "metadata": {},
   "outputs": [],
   "source": [
    "url_list=[\n",
    "            #immigration_information\n",
    "            'https://www.usf.edu/admissions/international/admission-information/immigration-information.aspx'            \n",
    "          \n",
    "          ]\n",
    "content=\"\""
   ]
  },
  {
   "cell_type": "code",
   "execution_count": 4,
   "id": "9ab7a79f-2c13-4e9b-9843-db36c1fb6053",
   "metadata": {},
   "outputs": [],
   "source": [
    "# if you hve selenium 4 installed, use one of these:\n",
    "driver = webdriver.Firefox(service=Service(GeckoDriverManager().install())) # this will work on Windows and Mac, and should work on Linux when run the first time\n",
    "#driver = webdriver.Firefox() # use if geckodriver is in your PATH environmnet variable (which includes the same folder as your notebook)\n",
    "for url in url_list:\n",
    "    driver.get(url)\n",
    "    driver.implicitly_wait(10) # implicitly_wait method sets a sticky timeout to implicitly wait for an element to be found, or a command to complete. This method only \n",
    "    # needs to be called one time per session. \n",
    "\n",
    "    pause_scroll = 3 # we need to pause after each time we scroll down\n",
    "    previous_page_height = driver.execute_script(\"return document.body.scrollHeight\")\n",
    "    while True:\n",
    "        driver.execute_script(\"window.scrollTo(0, document.body.scrollHeight);\")\n",
    "        time.sleep(pause_scroll)\n",
    "        new_page_height = driver.execute_script(\"return document.body.scrollHeight\")\n",
    "        #driver.find_elements_\n",
    "        if new_page_height == previous_page_height:\n",
    "            break\n",
    "        previous_page_height = new_page_height\n",
    "        \n",
    "    \n",
    "    page_source = driver.page_source\n",
    "    content = bs(page_source,'lxml')\n",
    "    content=content.get_text()\n",
    "   # usfbais_overview=usfbais_overview+content\n",
    "    \n",
    "\n",
    "driver.close()"
   ]
  },
  {
   "cell_type": "code",
   "execution_count": 5,
   "id": "506b26b7-73c3-4228-99c8-b7054fb67bf2",
   "metadata": {},
   "outputs": [],
   "source": [
    "# remove unwanted space\n",
    "content=\"\\n\".join([line for line in content.split(\"\\n\") if line.strip()])\n",
    "# remove unwanted tabs\n",
    "content=content.replace('\\t', '')\n",
    "# remove line less than 3 words\n",
    "#content =[line for line in content if len(line.split()) >= 3]"
   ]
  },
  {
   "cell_type": "code",
   "execution_count": 6,
   "id": "203ad287-92be-4c5c-b5ad-ac0cb9afa833",
   "metadata": {},
   "outputs": [
    {
     "data": {
      "text/plain": [
       "'Immigration Information | University of South Florida\\nSkip to Main Content\\nUniversity of South FloridaInternational StudentsOffice of Admissions\\nShow \\nSearch\\nSearch for: \\nMain Navigation\\nShow Menu\\nGive Now\\nShow Admission Information\\nInternational Admission InformationUndergraduateGraduateScholarships & FellowshipsCost of AttendanceImmigration InformationResidency InformationCounselor Information\\nShow Why USF?\\nWhy USF for International Students?Our CampusesGulf Coast Living\\nVisit Campus\\nShow Next Steps\\nYour Next Steps for International StudentsYour Next StepsCheck Application StatusAccept Your ScholarshipComplete FormsSubmit Transcripts\\nContact Us\\nApply Now\\nMyUSF\\nDirectory\\nAdmission Information\\nSkip Over Breadcrumbs and Secondary Navigation\\nBreadcrumb Navigation\\nInternational Students\\nAdmission Information\\nImmigration Information\\nShow  Secondary Navigation\\nAdmission Information\\nStudent Type\\nUndergraduate\\nGraduate\\nCost of Attendance\\nImmigration Information\\nResidency Information\\nCounselor Information\\nFind Your Country\\nQuick Links\\nInternational Student Inquiry\\nSteps to Apply\\nApplication Status\\nYour Country\\nEvents\\nImmigration Information\\nMost international students come to USF on F-1 or J-1 student visas. To apply for\\n               these, you need eligibility documents (I-20s for F-1 visas or DS-2019s for J-1 visas)\\n               from USF.\\nF-1 Student Visa – I-20\\xa0\\nThe F-1 is the most commonly used student visa. Students must have a valid educational\\n               purpose for coming to the United States, be a full-time student, and provide proof\\n               of their ability to fund their education. Upon admission to a USF program and receipt\\n               of financial documentation, the student is issued an I-20 to be used to obtain the\\n               F-1 visa at a US Embassy or Consulate. The spouse or children of an F-1 student enter\\n               the US on F-2 visas and are not eligible to attend university or work in the US.\\xa0\\nTransferring F-1 status from another US Institution:\\xa0F-1 students who are already attending a US school may transfer their immigration\\n                  status to USF, if they are admitted into a USF program, provide proof of financial\\n                  support, and have continuously maintained immigration status while in the US. Students\\n                  must enroll in courses at USF within 5 months of the last date of attendance at the\\n                  previous school or the end date of OPT.\\nAfter the student is admitted to USF and receives the official offer letter, they\\n               must ask the current institution to transfer the SEVIS record to USF. Students must\\n               also, download the\\xa0Transfer Clearance Form\\xa0and submit it to the international student office at their current school. USF International Services\\xa0must receive the completed\\xa0Transfer Clearance Form\\xa0and the SEVIS record to issue a USF I-20.\\nChanging to F-1 from another non-immigrant visa:\\xa0Students who are in the US using a non-immigrant visa other than F-1 may choose to\\n                  change their status to F-1 prior to beginning their USF academic program. This may\\n                  be accomplished either by traveling outside the U.S. or by applying to USCIS for a\\n                  change of status. Students who decide to travel to obtain their F-1 must receive an\\n                  I-20 from International Services. Students who apply for a change of status should\\n                  make an appointment to meet with an International Services advisor to discuss the\\n                  procedures.\\nJ-1 Student Visa – DS-2019\\nThe J-1 visa is an \"exchange visitor\" visa which is managed under the auspices of\\n               the Exchange Visitor Program of the US Department of State. The J-1 visa is used primarily\\n               by exchange students (non degree-seeking) and students sponsored by US government\\n               agencies. Students who meet the criteria for the J-1 visa will be issued a DS-2019\\n               by USF or by a United States government agency (IIE, OAS, USF, etc.). The spouse or\\n               children of a J-1 student enter the US on a J-2 visa. Spouses in J-2 status may apply\\n               to USCIS for permission to work after their arrival in the U.S. Spouses and children\\n               also may attend school.\\nOther Visa Types (Non F-1 Visa Holders)\\nStudents who do not hold an F-1 (student) visa status may study at USF if their current\\n               visa status permits study in a degree seeking program. Please note that individuals\\n               in F-2 and B1/B2 (visitor) status are\\xa0PROHIBITED\\xa0from studying in a degree seeking program. For information about non-immigrant visas\\n               go to\\xa0 U.S. Department of State\\xa0website.\\nHow to Get Your Non-Immigrant Visa\\xa0\\xa0\\xa0\\xa0\\xa0\\xa0\\xa0\\xa0\\xa0\\xa0\\xa0\\xa0\\xa0\\xa0\\xa0\\xa0\\xa0\\xa0\\xa0\\xa0\\xa0\\xa0\\xa0\\xa0\\xa0\\xa0\\xa0\\xa0\\xa0\\xa0\\xa0\\xa0 \\nUpon receipt of the I-20 or DS-2019, visit the Student and Exchange Visitor Program (SEVP) SEVIS I‑901 Fee processing website\\xa0to pay the SEVIS (I-901) fee required for all student visa applications. Be sure\\n               to print the receipt showing payment of this fee. Following fee payment, contact the US Embassy or Consulate\\xa0to schedule a visa appointment and download visa application forms. (NOTE:\\xa0Citizens of Canada are not required to apply for an entry visa at a U.S. Embassy or\\n               Consulate). Take your I-20 or DS-2019, passport, admission letter, and financial support\\n               documentation (e.g., award letter, bank statement, etc.) to the US Embassy or Consulate\\n               for the appointment.\\nUniversity of South Florida\\nShow Menu\\nAbout USF\\nAcademics\\nAdmissions\\nLocations\\nCampus Life\\nResearch\\nAdministrative Units\\nRegulations & Policies\\nHuman Resources\\nWork at USF\\nEmergency & Safety\\nTitle IX\\nUSF Health\\nUSF Athletics\\nUSF Alumni\\nSupport USF\\nUSF Libraries\\nUSF World\\n4202 E. Fowler Avenue,  SVC 1036, Tampa, FL 33620, USA+1 813-974-8884\\nFacebook\\nTwitter\\nYouTube\\nInstagram\\nCopyright ©\\xa02023,\\xa0University of South Florida.\\xa0All rights reserved.\\nThis website is maintained by International Admissions.\\nPrivacy\\nContact USF\\nVisit USF\\nAccessibility'"
      ]
     },
     "execution_count": 6,
     "metadata": {},
     "output_type": "execute_result"
    }
   ],
   "source": [
    "content"
   ]
  },
  {
   "cell_type": "code",
   "execution_count": 7,
   "id": "e0a93873-162d-4003-94a0-91dc13b009a3",
   "metadata": {},
   "outputs": [],
   "source": [
    "# 1. Open a new file in write mode\n",
    "file_path = \"immigration_information.txt\"  # Replace with the desired file path\n",
    "with open(file_path, \"w+\", encoding=\"utf-8\") as file:\n",
    "    \n",
    "    # 2. Write your string with newlines to the file\n",
    "    my_string = content #str(spefic)\n",
    "    file.write(my_string)\n"
   ]
  }
 ],
 "metadata": {
  "kernelspec": {
   "display_name": "Python 3 (ipykernel)",
   "language": "python",
   "name": "python3"
  },
  "language_info": {
   "codemirror_mode": {
    "name": "ipython",
    "version": 3
   },
   "file_extension": ".py",
   "mimetype": "text/x-python",
   "name": "python",
   "nbconvert_exporter": "python",
   "pygments_lexer": "ipython3",
   "version": "3.9.16"
  }
 },
 "nbformat": 4,
 "nbformat_minor": 5
}

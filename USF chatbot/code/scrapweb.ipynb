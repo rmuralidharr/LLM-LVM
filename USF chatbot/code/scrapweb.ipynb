{
 "cells": [
  {
   "cell_type": "code",
   "execution_count": 3,
   "metadata": {},
   "outputs": [],
   "source": [
    "import pandas as pd\n",
    "import time\n",
    "\n",
    "from selenium import webdriver\n",
    "from selenium.webdriver.firefox.service import Service\n",
    "from selenium.webdriver.common.by import By\n",
    "\n",
    "from webdriver_manager.firefox import GeckoDriverManager \n",
    "\n",
    "from bs4 import BeautifulSoup as bs\n",
    "\n",
    "import re\n",
    "import dateparser"
   ]
  },
  {
   "cell_type": "markdown",
   "metadata": {},
   "source": [
    "##### Install or call webdriver [firefox]"
   ]
  },
  {
   "cell_type": "code",
   "execution_count": 4,
   "metadata": {},
   "outputs": [],
   "source": [
    "# if you hve selenium 4 installed, use one of these:\n",
    "driver = webdriver.Firefox(service=Service(GeckoDriverManager().install())) # this will work on Windows and Mac, and should work on Linux when run the first time\n",
    "#driver = webdriver.Firefox() # use if geckodriver is in your PATH environmnet variable (which includes the same folder as your notebook)"
   ]
  },
  {
   "cell_type": "code",
   "execution_count": 5,
   "metadata": {},
   "outputs": [],
   "source": [
    "# if you hve selenium 4 installed, use one of these:\n",
    "driver = webdriver.Firefox(service=Service(GeckoDriverManager().install())) # this will work on Windows and Mac, and should work on Linux when run the first time\n",
    "#driver = webdriver.Firefox() # use if geckodriver is in your PATH environmnet variable (which includes the same folder as your notebook)"
   ]
  },
  {
   "cell_type": "markdown",
   "metadata": {},
   "source": [
    "##### Extract the catalog.usf.edu website data"
   ]
  },
  {
   "cell_type": "code",
   "execution_count": 6,
   "metadata": {},
   "outputs": [],
   "source": [
    "# Extract the catalog.usf.edu website data\n",
    "\n",
    "# load page with Selenium\n",
    "driver.get(\"https://catalog.usf.edu/preview_program.php?catoid=12&poid=3955&returnto=2049\")\n",
    "driver.implicitly_wait(10) # implicitly_wait method sets a sticky timeout to implicitly wait for an element to be found, or a command to complete. This method only \n",
    "# needs to be called one time per session. \n",
    "\n",
    "pause_scroll = 3 # we need to pause after each time we scroll down\n",
    "previous_page_height = driver.execute_script(\"return document.body.scrollHeight\")\n",
    "while True:\n",
    "    driver.execute_script(\"window.scrollTo(0, document.body.scrollHeight);\")\n",
    "    time.sleep(pause_scroll)\n",
    "    new_page_height = driver.execute_script(\"return document.body.scrollHeight\")\n",
    "    #driver.find_elements_\n",
    "    if new_page_height == previous_page_height:\n",
    "        break\n",
    "    previous_page_height = new_page_height\n",
    "    \n",
    "\n",
    "page_source = driver.page_source\n",
    "driver.close()"
   ]
  },
  {
   "cell_type": "code",
   "execution_count": 7,
   "metadata": {},
   "outputs": [],
   "source": [
    "#retrieve urls to all speeches\n",
    "bsobject_linkpage = bs(page_source,'lxml')"
   ]
  },
  {
   "cell_type": "code",
   "execution_count": 8,
   "metadata": {},
   "outputs": [],
   "source": [
    "# get the text content from html\n",
    "Content=bsobject_linkpage.get_text()"
   ]
  },
  {
   "cell_type": "code",
   "execution_count": 9,
   "metadata": {},
   "outputs": [],
   "source": [
    "# remove unwanted space\n",
    "Content=\"\\n\".join([line for line in Content.split(\"\\n\") if line.strip()])\n",
    "# remove unwanted tabs\n",
    "Content=Content.replace('\\t', '')\n",
    "# remove line less than 3 words\n",
    "#Content =[line for line in Content if len(line.split()) >= 3]"
   ]
  },
  {
   "cell_type": "code",
   "execution_count": 10,
   "metadata": {},
   "outputs": [],
   "source": [
    "# 1. Open a new file in write mode\n",
    "file_path = \"usf_catalog.txt\"  # Replace with the desired file path\n",
    "with open(file_path, \"w+\") as file:\n",
    "    \n",
    "    # 2. Write your string with newlines to the file\n",
    "    my_string = Content #str(spefic)\n",
    "    file.write(my_string)\n"
   ]
  },
  {
   "cell_type": "code",
   "execution_count": 12,
   "metadata": {},
   "outputs": [],
   "source": [
    "# if you hve selenium 4 installed, use one of these:\n",
    "driver = webdriver.Firefox(service=Service(GeckoDriverManager().install())) # this will work on Windows and Mac, and should work on Linux when run the first time\n",
    "#driver = webdriver.Firefox() # use if geckodriver is in your PATH environmnet variable (which includes the same folder as your notebook)"
   ]
  },
  {
   "cell_type": "code",
   "execution_count": 13,
   "metadata": {},
   "outputs": [
    {
     "name": "stdout",
     "output_type": "stream",
     "text": [
      "CPU times: total: 0 ns\n",
      "Wall time: 10.2 s\n"
     ]
    }
   ],
   "source": [
    "%%time\n",
    "# Extract the USF BAIS overview website data\n",
    "\n",
    "# load page with Selenium\n",
    "driver.get(\"https://www.usf.edu/business/graduate/ms-bais\")\n",
    "driver.implicitly_wait(10) # implicitly_wait method sets a sticky timeout to implicitly wait for an element to be found, or a command to complete. This method only \n",
    "# needs to be called one time per session. \n",
    "\n",
    "pause_scroll = 3 # we need to pause after each time we scroll down\n",
    "previous_page_height = driver.execute_script(\"return document.body.scrollHeight\")\n",
    "while True:\n",
    "    driver.execute_script(\"window.scrollTo(0, document.body.scrollHeight);\")\n",
    "    time.sleep(pause_scroll)\n",
    "    new_page_height = driver.execute_script(\"return document.body.scrollHeight\")\n",
    "    #driver.find_elements_\n",
    "    if new_page_height == previous_page_height:\n",
    "        break\n",
    "    previous_page_height = new_page_height\n",
    "    \n",
    "\n",
    "page_source = driver.page_source\n",
    "driver.close()"
   ]
  },
  {
   "cell_type": "code",
   "execution_count": 14,
   "metadata": {},
   "outputs": [],
   "source": [
    "#retrieve urls to all speeches\n",
    "usfbais_overview = bs(page_source,'lxml')"
   ]
  },
  {
   "cell_type": "code",
   "execution_count": 15,
   "metadata": {},
   "outputs": [],
   "source": [
    "# get the text content from html\n",
    "usfbais_overview=usfbais_overview.get_text()"
   ]
  },
  {
   "cell_type": "code",
   "execution_count": 16,
   "metadata": {},
   "outputs": [],
   "source": [
    "# remove unwanted space\n",
    "usfbais_overview=\"\\n\".join([line for line in usfbais_overview.split(\"\\n\") if line.strip()])\n",
    "# remove unwanted tabs\n",
    "usfbais_overview=usfbais_overview.replace('\\t', '')\n",
    "# remove line less than 3 words\n",
    "usfbais_overview =[line for line in usfbais_overview if len(line.split()) >= 3]"
   ]
  },
  {
   "cell_type": "code",
   "execution_count": 17,
   "metadata": {},
   "outputs": [],
   "source": [
    "# 1. Open a new file in write mode\n",
    "file_path = \"usfmsbais_overview.txt\"  # Replace with the desired file path\n",
    "with open(file_path, \"w+\") as file:\n",
    "    \n",
    "    # 2. Write your string with newlines to the file\n",
    "    my_string = usfbais_overview #str(spefic)\n",
    "    file.write(my_string)\n"
   ]
  },
  {
   "cell_type": "code",
   "execution_count": 29,
   "metadata": {},
   "outputs": [],
   "source": [
    "# if you hve selenium 4 installed, use one of these:\n",
    "driver = webdriver.Firefox(service=Service(GeckoDriverManager().install())) # this will work on Windows and Mac, and should work on Linux when run the first time\n",
    "#driver = webdriver.Firefox() # use if geckodriver is in your PATH environmnet variable (which includes the same folder as your notebook)"
   ]
  },
  {
   "cell_type": "code",
   "execution_count": 30,
   "metadata": {},
   "outputs": [],
   "source": [
    "url_list=['https://catalog.usf.edu/preview_program.php?catoid=12&poid=3955&returnto=2049',\n",
    "          'https://www.usf.edu/business/graduate/ms-bais','https://www.usf.edu/business/graduate/ms-bais/faq.aspx',\n",
    "          'https://www.usf.edu/business/graduate/ms-info-session.aspx',\n",
    "          'https://www.usf.edu/business/graduate/ms-bais/faculty.aspx',\n",
    "          #global \n",
    "          'https://www.usf.edu/business/graduate/ms-bais-global/index.aspx',\n",
    "          'https://www.usf.edu/business/graduate/ms-bais-global/schedule.aspx',\n",
    "          'https://www.usf.edu/business/graduate/ms-bais-global/tuition-financial-aid.aspx',\n",
    "          'https://www.usf.edu/business/graduate/ms-bais-global/faq.aspx',\n",
    "          'https://www.usf.edu/business/graduate/ms-bais-global/application-process.aspx',\n",
    "          'https://www.usf.edu/business/graduate/ms-bais-global/faculty.aspx'\n",
    "          \n",
    "          ]\n",
    "content=\"\""
   ]
  },
  {
   "cell_type": "code",
   "execution_count": null,
   "metadata": {},
   "outputs": [],
   "source": []
  },
  {
   "cell_type": "code",
   "execution_count": 31,
   "metadata": {},
   "outputs": [],
   "source": [
    "# if you hve selenium 4 installed, use one of these:\n",
    "driver = webdriver.Firefox(service=Service(GeckoDriverManager().install())) # this will work on Windows and Mac, and should work on Linux when run the first time\n",
    "#driver = webdriver.Firefox() # use if geckodriver is in your PATH environmnet variable (which includes the same folder as your notebook)\n",
    "for url in url_list:\n",
    "    driver.get(url)\n",
    "    driver.implicitly_wait(10) # implicitly_wait method sets a sticky timeout to implicitly wait for an element to be found, or a command to complete. This method only \n",
    "    # needs to be called one time per session. \n",
    "\n",
    "    pause_scroll = 3 # we need to pause after each time we scroll down\n",
    "    previous_page_height = driver.execute_script(\"return document.body.scrollHeight\")\n",
    "    while True:\n",
    "        driver.execute_script(\"window.scrollTo(0, document.body.scrollHeight);\")\n",
    "        time.sleep(pause_scroll)\n",
    "        new_page_height = driver.execute_script(\"return document.body.scrollHeight\")\n",
    "        #driver.find_elements_\n",
    "        if new_page_height == previous_page_height:\n",
    "            break\n",
    "        previous_page_height = new_page_height\n",
    "        \n",
    "    \n",
    "    page_source = driver.page_source\n",
    "    content = bs(page_source,'lxml')\n",
    "    content=content.get_text()\n",
    "    usfbais_overview=usfbais_overview+content\n",
    "    \n",
    "\n",
    "driver.close()"
   ]
  },
  {
   "cell_type": "code",
   "execution_count": 32,
   "metadata": {},
   "outputs": [],
   "source": [
    "# remove unwanted space\n",
    "usfbais_overview=\"\\n\".join([line for line in usfbais_overview.split(\"\\n\") if line.strip()])\n",
    "# remove unwanted tabs\n",
    "usfbais_overview=usfbais_overview.replace('\\t', '')\n",
    "# remove line less than 3 words\n",
    "#usfbais_overview =[line for line in usfbais_overview if len(line.split()) >= 3]"
   ]
  },
  {
   "cell_type": "code",
   "execution_count": 33,
   "metadata": {},
   "outputs": [],
   "source": [
    "# 1. Open a new file in write mode\n",
    "file_path = \"usfmsbais.txt\"  # Replace with the desired file path\n",
    "with open(file_path, \"w+\") as file:\n",
    "    \n",
    "    # 2. Write your string with newlines to the file\n",
    "    my_string = usfbais_overview #str(spefic)\n",
    "    file.write(my_string)\n"
   ]
  },
  {
   "cell_type": "code",
   "execution_count": null,
   "metadata": {},
   "outputs": [],
   "source": []
  }
 ],
 "metadata": {
  "kernelspec": {
   "display_name": "text_analytics",
   "language": "python",
   "name": "python3"
  },
  "language_info": {
   "codemirror_mode": {
    "name": "ipython",
    "version": 3
   },
   "file_extension": ".py",
   "mimetype": "text/x-python",
   "name": "python",
   "nbconvert_exporter": "python",
   "pygments_lexer": "ipython3",
   "version": "3.11.4"
  }
 },
 "nbformat": 4,
 "nbformat_minor": 2
}

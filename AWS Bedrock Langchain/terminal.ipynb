{
 "cells": [
  {
   "cell_type": "code",
   "execution_count": 1,
   "metadata": {},
   "outputs": [
    {
     "name": "stdout",
     "output_type": "stream",
     "text": [
      "^C\n"
     ]
    }
   ],
   "source": [
    "!aws configure"
   ]
  },
  {
   "cell_type": "code",
   "execution_count": 1,
   "metadata": {},
   "outputs": [
    {
     "name": "stdout",
     "output_type": "stream",
     "text": [
      "Requirement already satisfied: boto3 in c:\\users\\rmura\\anaconda3\\envs\\text_analytics\\lib\\site-packages (from -r requirements.txt (line 1)) (1.34.55)\n",
      "Requirement already satisfied: awscli in c:\\users\\rmura\\anaconda3\\envs\\text_analytics\\lib\\site-packages (from -r requirements.txt (line 2)) (1.32.55)\n",
      "Requirement already satisfied: botocore<1.35.0,>=1.34.55 in c:\\users\\rmura\\anaconda3\\envs\\text_analytics\\lib\\site-packages (from boto3->-r requirements.txt (line 1)) (1.34.55)\n",
      "Requirement already satisfied: jmespath<2.0.0,>=0.7.1 in c:\\users\\rmura\\anaconda3\\envs\\text_analytics\\lib\\site-packages (from boto3->-r requirements.txt (line 1)) (1.0.1)\n",
      "Requirement already satisfied: s3transfer<0.11.0,>=0.10.0 in c:\\users\\rmura\\anaconda3\\envs\\text_analytics\\lib\\site-packages (from boto3->-r requirements.txt (line 1)) (0.10.0)\n",
      "Requirement already satisfied: docutils<0.17,>=0.10 in c:\\users\\rmura\\anaconda3\\envs\\text_analytics\\lib\\site-packages (from awscli->-r requirements.txt (line 2)) (0.16)\n",
      "Requirement already satisfied: PyYAML<6.1,>=3.10 in c:\\users\\rmura\\anaconda3\\envs\\text_analytics\\lib\\site-packages (from awscli->-r requirements.txt (line 2)) (6.0.1)\n",
      "Requirement already satisfied: colorama<0.4.5,>=0.2.5 in c:\\users\\rmura\\anaconda3\\envs\\text_analytics\\lib\\site-packages (from awscli->-r requirements.txt (line 2)) (0.4.4)\n",
      "Requirement already satisfied: rsa<4.8,>=3.1.2 in c:\\users\\rmura\\anaconda3\\envs\\text_analytics\\lib\\site-packages (from awscli->-r requirements.txt (line 2)) (4.7.2)\n",
      "Requirement already satisfied: python-dateutil<3.0.0,>=2.1 in c:\\users\\rmura\\anaconda3\\envs\\text_analytics\\lib\\site-packages (from botocore<1.35.0,>=1.34.55->boto3->-r requirements.txt (line 1)) (2.8.2)\n",
      "Requirement already satisfied: urllib3<2.1,>=1.25.4 in c:\\users\\rmura\\anaconda3\\envs\\text_analytics\\lib\\site-packages (from botocore<1.35.0,>=1.34.55->boto3->-r requirements.txt (line 1)) (1.26.15)\n",
      "Requirement already satisfied: pyasn1>=0.1.3 in c:\\users\\rmura\\anaconda3\\envs\\text_analytics\\lib\\site-packages (from rsa<4.8,>=3.1.2->awscli->-r requirements.txt (line 2)) (0.5.0)\n",
      "Requirement already satisfied: six>=1.5 in c:\\users\\rmura\\anaconda3\\envs\\text_analytics\\lib\\site-packages (from python-dateutil<3.0.0,>=2.1->botocore<1.35.0,>=1.34.55->boto3->-r requirements.txt (line 1)) (1.16.0)\n"
     ]
    }
   ],
   "source": [
    "!pip install -r requirements.txt"
   ]
  },
  {
   "cell_type": "code",
   "execution_count": 3,
   "metadata": {},
   "outputs": [
    {
     "name": "stdout",
     "output_type": "stream",
     "text": [
      "Requirement already satisfied: pip in c:\\users\\rmura\\anaconda3\\envs\\text_analytics\\lib\\site-packages (23.2.1)\n",
      "Collecting pip\n",
      "  Obtaining dependency information for pip from https://files.pythonhosted.org/packages/8a/6a/19e9fe04fca059ccf770861c7d5721ab4c2aebc539889e97c7977528a53b/pip-24.0-py3-none-any.whl.metadata\n",
      "  Downloading pip-24.0-py3-none-any.whl.metadata (3.6 kB)\n",
      "Downloading pip-24.0-py3-none-any.whl (2.1 MB)\n",
      "   ---------------------------------------- 0.0/2.1 MB ? eta -:--:--\n",
      "   ---------------------------------------- 0.0/2.1 MB ? eta -:--:--\n",
      "   - -------------------------------------- 0.1/2.1 MB 1.3 MB/s eta 0:00:02\n",
      "   -------- ------------------------------- 0.5/2.1 MB 4.9 MB/s eta 0:00:01\n",
      "   ------------- -------------------------- 0.7/2.1 MB 5.0 MB/s eta 0:00:01\n",
      "   -------------------- ------------------- 1.1/2.1 MB 5.8 MB/s eta 0:00:01\n",
      "   ----------------------------------- ---- 1.9/2.1 MB 7.4 MB/s eta 0:00:01\n",
      "   ---------------------------------------- 2.1/2.1 MB 7.9 MB/s eta 0:00:00\n",
      "Installing collected packages: pip\n",
      "  Attempting uninstall: pip\n",
      "    Found existing installation: pip 23.2.1\n",
      "    Uninstalling pip-23.2.1:\n",
      "      Successfully uninstalled pip-23.2.1\n",
      "Successfully installed pip-24.0\n"
     ]
    }
   ],
   "source": [
    "!python.exe -m pip install --upgrade pip"
   ]
  },
  {
   "cell_type": "code",
   "execution_count": null,
   "metadata": {},
   "outputs": [],
   "source": []
  }
 ],
 "metadata": {
  "kernelspec": {
   "display_name": "text_analytics",
   "language": "python",
   "name": "python3"
  },
  "language_info": {
   "codemirror_mode": {
    "name": "ipython",
    "version": 3
   },
   "file_extension": ".py",
   "mimetype": "text/x-python",
   "name": "python",
   "nbconvert_exporter": "python",
   "pygments_lexer": "ipython3",
   "version": "3.11.4"
  }
 },
 "nbformat": 4,
 "nbformat_minor": 2
}
